{
 "cells": [
  {
   "cell_type": "markdown",
   "metadata": {},
   "source": [
    "# Intro\n",
    "\n",
    "the membrane-embedded nature of membrane proteins is not accounted for in traditional normal mode analysis.\n",
    "\n",
    "As far as we can tell, two approaches have been implemented in [ProDy](https://www.ncbi.nlm.nih.gov/pmc/articles/PMC3309413/). The first one, [imANM](http://prody.csb.pitt.edu/tutorials/membrane_anm/imanm.html), separates the spring constant into 3 components and the component normal to the membrane is rescaled to dampen radial motions. The other one, [exANM](http://prody.csb.pitt.edu/tutorials/membrane_anm/exanm.html), models the whole slab of lipid membrane by space-filling it with beads, computes the Hessian of the whole system and reduces it yielding the effective Hessian of the protein in the membrane environment.\n",
    "\n",
    "Although the approach in exANM is appealing, it is costly and requires to model the full membrane slab beforehand. We propose here a slightly different approach.\n",
    "\n",
    "The idea would be to wrap the transmembrane region of the protein in a mesh of pseudo-particles harmonically constrained to stay in place and tightly coupled to the neighbouring protein atoms. Here also, the total Hessian is reduced to yield the effective Hessian of the protein, but this time at a much reduced cost.\n",
    "\n",
    "# Methods\n",
    "\n",
    "## Building the membrane skin\n",
    "\n",
    "The molecular surface of the transmembrane part of the protein is found using a big probe radius, (e.g. see algorithm in  [epock](https://www.ncbi.nlm.nih.gov/pubmed/25505095) [code](https://bitbucket.org/epock/epock)) and the voxels identified are kept as anchor-particles.\n",
    "\n",
    "## Building the Hessian\n",
    "\n",
    "The total Hessian can be seen as the block matrix $H=\\left[\\begin{array}{c c} H_{PP} & H_{PM} \\\\ H_{MP} & H_{MM} \\end{array}\\right]$ with Protein-Protein, Protein-Membrane, Membrane-Protein and Membrane-Membrane terms. $H_{PP}$ is built as commonly done - pairing all atoms in the Protein within a given cutoff weigthed with spring constant $k_{PP}$, but we need to explicit the other parts (To be done in greater detail). \n",
    "\n",
    "In a nutshell, the coupling $H_{PM}$ involves the coupling between each membrane particle and any atoms from the protein within a given cutoff, weighted with a strong spring constant $k_{PM}$.\n",
    "\n",
    "The membrane part $H_{MM}$ follows a slightly different definition as it constraints the *particle position*, not the *interparticle distance* as in the other terms. Something like $H_{MM}(i,j) = \\frac{\\partial E_{M}}{\\partial x_{i}\\partial x_{j}}$ where $E_{M} = \\sum_{i} k_{i}|\\mathbf{r}_{i}-\\mathbf{r}_{i}^{(0)}|^{2}$.\n",
    "\n",
    "Then the total Hessian is reduced to the effective protein Hessian $H_{eff} = H_{PP} - H_{PM}H_{MM}^{-1}H_{MP}$.\n",
    "\n",
    "## Calculating the modes\n",
    "\n",
    "Once the effective Hessian is built, things become normal again, and normal modes are obtained by solving the eigevanlue problem."
   ]
  },
  {
   "cell_type": "markdown",
   "metadata": {},
   "source": [
    "# Results"
   ]
  },
  {
   "cell_type": "code",
   "execution_count": 67,
   "metadata": {},
   "outputs": [],
   "source": [
    "%matplotlib inline\n",
    "import numpy as np                    # load numerical library\n",
    "import numpy.ma as ma\n",
    "from scipy.spatial import distance\n",
    "from matplotlib import pyplot as plt  # load plotting library\n",
    "from prody import *                   # load prody library\n",
    "from pyvdwsurface import *            # load pyvdwsurface (installed from https://github.com/rmcgibbo/pyvdwsurface)"
   ]
  },
  {
   "cell_type": "code",
   "execution_count": 85,
   "metadata": {},
   "outputs": [
    {
     "name": "stderr",
     "output_type": "stream",
     "text": [
      "@> 10557 atoms and 1 coordinate set(s) were parsed in 0.08s.\n"
     ]
    }
   ],
   "source": [
    "pdbs_folder  = 'pdbs'           # local folder where PDB files can be found\n",
    "pdb_filename = '4FZ0.pdb'       # name of PDB considered for the analysis (must be found in pdbs_folder)\n",
    "cutoff       = 15.0             # distance cutoff to couple pairs of atoms\n",
    "gamma        = 1.0              # see ProDy\n",
    "whole_selection         = 'protein'              # set of all atoms considered          \n",
    "transmembrane_selection = whole_selection+' and (resnum 55:65 or resnum 430:440)'      # subset of whole_selection, for ligand\n",
    "pdb = parsePDB(pdbs_folder+'/'+pdb_filename)"
   ]
  },
  {
   "cell_type": "code",
   "execution_count": 91,
   "metadata": {},
   "outputs": [
    {
     "name": "stdout",
     "output_type": "stream",
     "text": [
      "Number of skin points:  1834\n"
     ]
    }
   ],
   "source": [
    "skin = build_skin(pdb,selection=transmembrane_selection,write_xyz='skin.xyz')\n",
    "#skin = build_skin(pdb,selection=transmembrane_selection)"
   ]
  },
  {
   "cell_type": "code",
   "execution_count": null,
   "metadata": {},
   "outputs": [],
   "source": []
  },
  {
   "cell_type": "code",
   "execution_count": 53,
   "metadata": {},
   "outputs": [],
   "source": []
  },
  {
   "cell_type": "code",
   "execution_count": null,
   "metadata": {
    "scrolled": false
   },
   "outputs": [],
   "source": []
  },
  {
   "cell_type": "code",
   "execution_count": 90,
   "metadata": {},
   "outputs": [],
   "source": [
    "def build_skin(pdb,selection='protein',write_xyz=None):\n",
    "    \"\"\" build_skin\n",
    "    \"\"\"\n",
    "    crd = pdb.select(selection).getCoords()\n",
    "    elements = [str.encode(x) for x in sel.getElements()]\n",
    "    # first pass, we build all the skin\n",
    "    skin = vdwsurface(crd, elements, scale_factor=5,density=0.1)\n",
    "    # second pass, we remove parts that overlap with the rest of the protein\n",
    "    crd_all = pdb.select('protein').getCoords()\n",
    "    #skin = trimsurface(skin,crd_all)\n",
    "    print(\"Number of skin points: \",skin.shape[0])\n",
    "    if write_xyz is not None:\n",
    "        save_xyz(write_xyz,skin)\n",
    "    return skin\n",
    "\n",
    "def trimsurface(skin,crd):\n",
    "    \"\"\"\n",
    "    \"\"\"\n",
    "    # measure distance between all atoms in skin and all atoms in crd\n",
    "    dist     = distance.cdist(skin,crd,'euclidean')\n",
    "    # keep minimum distance to crd for all atoms in skin\n",
    "    dist_min = np.amin(dist, axis=1)\n",
    "    masked   = ma.masked_where(dist_min > 2., dist_min)\n",
    "    mask     = np.repeat(masked,3,axis=0).reshape(skin.shape)\n",
    "    print(mask.shape)\n",
    "    new_skin = np.ma.masked_array(skin, mask)\n",
    "    return np.ma.compressed(new_skin)\n",
    "    \n",
    "def save_xyz(filename,xyz):\n",
    "    \"\"\" save_xyz\n",
    "    \"\"\"\n",
    "    f = open(filename,'w+')\n",
    "    f.write('{}'.format(xyz.shape[0])+\"\\r\\n\")\n",
    "    f.write(\" \\r\\n\")\n",
    "    for i in xyz:\n",
    "        f.write(\"C \"+'{}'.format(' '.join(map(str, i)))+\"\\r\\n\")\n",
    "    f.close()\n"
   ]
  },
  {
   "cell_type": "code",
   "execution_count": null,
   "metadata": {},
   "outputs": [],
   "source": []
  },
  {
   "cell_type": "markdown",
   "metadata": {},
   "source": [
    "# Misc"
   ]
  },
  {
   "cell_type": "code",
   "execution_count": null,
   "metadata": {},
   "outputs": [],
   "source": [
    "traj = pt.load(pdbs_folder+'/'+pdb_filename)\n",
    "view = nv.show_pytraj(traj)\n",
    "skin2shape(skin, view=view)\n",
    "view"
   ]
  },
  {
   "cell_type": "code",
   "execution_count": null,
   "metadata": {},
   "outputs": [],
   "source": [
    "from mpl_toolkits.mplot3d import Axes3D\n",
    "import nglview as nv\n",
    "import pytraj as pt\n",
    "\n",
    "def skin2shape(skin, view):\n",
    "    shape = nv.shape.Shape(view=view)\n",
    "    for i in skin:\n",
    "        shape.add_sphere(i.tolist(), [1,0,0], 0.1)\n",
    " "
   ]
  }
 ],
 "metadata": {
  "kernelspec": {
   "display_name": "Python 3",
   "language": "python",
   "name": "python3"
  },
  "language_info": {
   "codemirror_mode": {
    "name": "ipython",
    "version": 3
   },
   "file_extension": ".py",
   "mimetype": "text/x-python",
   "name": "python",
   "nbconvert_exporter": "python",
   "pygments_lexer": "ipython3",
   "version": "3.6.3"
  }
 },
 "nbformat": 4,
 "nbformat_minor": 2
}
